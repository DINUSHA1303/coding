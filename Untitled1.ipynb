{
 "cells": [
  {
   "cell_type": "code",
   "execution_count": 1,
   "id": "9549f78a",
   "metadata": {},
   "outputs": [
    {
     "name": "stdout",
     "output_type": "stream",
     "text": [
      "enter time5\n",
      "time is up wake\n"
     ]
    }
   ],
   "source": [
    "timenow=input(\"enter time\")\n",
    "notif={1:\"wake\",5:\"this is afternoon\",2:\"this is evening \"}\n",
    "if int(timenow)<6:\n",
    "    print(f\"time is up {notif[1]}\")\n",
    "elif int(timenow)==12:\n",
    "    print(notif[2])\n",
    "elif int(timenow)>12:\n",
    "    print(notif[3])\n",
    "        \n",
    "    "
   ]
  },
  {
   "cell_type": "code",
   "execution_count": 3,
   "id": "cdf81d12",
   "metadata": {},
   "outputs": [
    {
     "name": "stdout",
     "output_type": "stream",
     "text": [
      "your total fare for 1 km is 2\n",
      "your total fare for 1 km is 2\n",
      "your total fare for 3km is 6\n",
      "your total fare for 4km is 8\n",
      "your total fare for 5km is 10\n",
      "your total fare for 6km is 12\n",
      "your total fare for 7km is 14\n",
      "your total fare for 8km is 16\n",
      "your total fare for 9km is 18\n",
      "your total fare for 10km is 20\n",
      "your total fare for 11km is 22\n",
      "your total fare for 12km is 24\n",
      "your total fare for 13km is 26\n",
      "your total fare for 14km is 28\n",
      "your total fare for 15km is 30\n",
      "your total fare for 16km is 32\n",
      "your total fare for 17km is 34\n",
      "your total fare for 18km is 36\n",
      "your total fare for 19km is 38\n",
      "your total fare for 20km is 40\n",
      "your total fare for 21km is 42\n",
      "your total fare for 22km is 44\n",
      "your total fare for 23km is 46\n",
      "your total fare for 24km is 48\n",
      "your total fare for 25km is 50\n"
     ]
    }
   ],
   "source": [
    "fare_per_km=2\n",
    "for dist in range(1,26):\n",
    "    if dist>2:\n",
    "        total_fare=dist*2\n",
    "        print(f\"your total fare for {dist}km is {total_fare}\")\n",
    "        \n",
    "    else:\n",
    "        print(f\"your total fare for 1 km is 2\")\n",
    "        \n",
    "    "
   ]
  },
  {
   "cell_type": "code",
   "execution_count": null,
   "id": "c9694588",
   "metadata": {},
   "outputs": [],
   "source": []
  },
  {
   "cell_type": "code",
   "execution_count": null,
   "id": "8e09b579",
   "metadata": {},
   "outputs": [],
   "source": []
  },
  {
   "cell_type": "code",
   "execution_count": null,
   "id": "60db4f78",
   "metadata": {},
   "outputs": [],
   "source": []
  },
  {
   "cell_type": "code",
   "execution_count": null,
   "id": "6aaf6867",
   "metadata": {},
   "outputs": [],
   "source": []
  },
  {
   "cell_type": "code",
   "execution_count": null,
   "id": "00c64dca",
   "metadata": {},
   "outputs": [],
   "source": []
  }
 ],
 "metadata": {
  "kernelspec": {
   "display_name": "Python 3 (ipykernel)",
   "language": "python",
   "name": "python3"
  },
  "language_info": {
   "codemirror_mode": {
    "name": "ipython",
    "version": 3
   },
   "file_extension": ".py",
   "mimetype": "text/x-python",
   "name": "python",
   "nbconvert_exporter": "python",
   "pygments_lexer": "ipython3",
   "version": "3.10.8"
  }
 },
 "nbformat": 4,
 "nbformat_minor": 5
}
