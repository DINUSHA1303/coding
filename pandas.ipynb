{
 "cells": [
  {
   "cell_type": "code",
   "execution_count": 1,
   "id": "c6bc6b1f",
   "metadata": {},
   "outputs": [],
   "source": [
    "import pandas as dinu"
   ]
  },
  {
   "cell_type": "code",
   "execution_count": 2,
   "id": "2aa93006",
   "metadata": {},
   "outputs": [
    {
     "data": {
      "text/plain": [
       "'1.5.2'"
      ]
     },
     "execution_count": 2,
     "metadata": {},
     "output_type": "execute_result"
    }
   ],
   "source": [
    "dinu.__version__"
   ]
  },
  {
   "cell_type": "code",
   "execution_count": 3,
   "id": "9410e1f9",
   "metadata": {},
   "outputs": [],
   "source": [
    "a1=dinu.Series(['one',1,2,3,4,],index=[0,1,2,3,5])"
   ]
  },
  {
   "cell_type": "code",
   "execution_count": 4,
   "id": "eb889718",
   "metadata": {},
   "outputs": [
    {
     "name": "stdout",
     "output_type": "stream",
     "text": [
      "0    one\n",
      "1      1\n",
      "2      2\n",
      "3      3\n",
      "5      4\n",
      "dtype: object\n"
     ]
    }
   ],
   "source": [
    "print(a1)"
   ]
  },
  {
   "cell_type": "code",
   "execution_count": 5,
   "id": "7c713532",
   "metadata": {},
   "outputs": [],
   "source": [
    "season={\"rainy\":{1:'nov',2:'dec',3:'jan',4:'feb'},\"dry\":{1:'mar',2:'apr',3:'may',4:'jun'}}"
   ]
  },
  {
   "cell_type": "code",
   "execution_count": 6,
   "id": "f298c807",
   "metadata": {},
   "outputs": [],
   "source": [
    "d=dinu.DataFrame(season,columns=[\"rainy\",\"dry\"])"
   ]
  },
  {
   "cell_type": "code",
   "execution_count": 7,
   "id": "d480fbf8",
   "metadata": {},
   "outputs": [
    {
     "data": {
      "text/html": [
       "<div>\n",
       "<style scoped>\n",
       "    .dataframe tbody tr th:only-of-type {\n",
       "        vertical-align: middle;\n",
       "    }\n",
       "\n",
       "    .dataframe tbody tr th {\n",
       "        vertical-align: top;\n",
       "    }\n",
       "\n",
       "    .dataframe thead th {\n",
       "        text-align: right;\n",
       "    }\n",
       "</style>\n",
       "<table border=\"1\" class=\"dataframe\">\n",
       "  <thead>\n",
       "    <tr style=\"text-align: right;\">\n",
       "      <th></th>\n",
       "      <th>rainy</th>\n",
       "      <th>dry</th>\n",
       "    </tr>\n",
       "  </thead>\n",
       "  <tbody>\n",
       "    <tr>\n",
       "      <th>1</th>\n",
       "      <td>nov</td>\n",
       "      <td>mar</td>\n",
       "    </tr>\n",
       "    <tr>\n",
       "      <th>2</th>\n",
       "      <td>dec</td>\n",
       "      <td>apr</td>\n",
       "    </tr>\n",
       "    <tr>\n",
       "      <th>3</th>\n",
       "      <td>jan</td>\n",
       "      <td>may</td>\n",
       "    </tr>\n",
       "    <tr>\n",
       "      <th>4</th>\n",
       "      <td>feb</td>\n",
       "      <td>jun</td>\n",
       "    </tr>\n",
       "  </tbody>\n",
       "</table>\n",
       "</div>"
      ],
      "text/plain": [
       "  rainy  dry\n",
       "1   nov  mar\n",
       "2   dec  apr\n",
       "3   jan  may\n",
       "4   feb  jun"
      ]
     },
     "execution_count": 7,
     "metadata": {},
     "output_type": "execute_result"
    }
   ],
   "source": [
    "d"
   ]
  },
  {
   "cell_type": "code",
   "execution_count": 10,
   "id": "6004a9d1",
   "metadata": {},
   "outputs": [],
   "source": [
    "import numpy as dhinu"
   ]
  },
  {
   "cell_type": "code",
   "execution_count": 11,
   "id": "fc692cbc",
   "metadata": {},
   "outputs": [],
   "source": [
    "a=dinu.DataFrame(dhinu.random.randint(0,300,size=(12,6)),columns=list(('abcdef')))"
   ]
  },
  {
   "cell_type": "code",
   "execution_count": 12,
   "id": "d24a4901",
   "metadata": {},
   "outputs": [
    {
     "name": "stdout",
     "output_type": "stream",
     "text": [
      "      a    b    c    d    e    f\n",
      "0   286  189  229   21  215  198\n",
      "1   235   94  275  264  172   80\n",
      "2   187  195  173  158  100  140\n",
      "3   151  108   35   32  127  263\n",
      "4    87   25   99  270    7  219\n",
      "5    89  273  293   14   46  291\n",
      "6    68  130   29  148  150   29\n",
      "7    83   78   35  150  282  287\n",
      "8   296  105  165  178  176    8\n",
      "9   113  241  161  213    6   71\n",
      "10  201   88   27  171   85  281\n",
      "11  212   62  190  267  295  118\n"
     ]
    }
   ],
   "source": [
    "print(a)"
   ]
  },
  {
   "cell_type": "code",
   "execution_count": 13,
   "id": "672c3e62",
   "metadata": {},
   "outputs": [],
   "source": [
    "a.to_csv(\"D:\\pandas.csv\")                                "
   ]
  },
  {
   "cell_type": "code",
   "execution_count": 14,
   "id": "6aec8e17",
   "metadata": {},
   "outputs": [],
   "source": [
    "a.to_csv(\"D:\\pandas.csv\")"
   ]
  },
  {
   "cell_type": "code",
   "execution_count": 18,
   "id": "8281ff0c",
   "metadata": {},
   "outputs": [],
   "source": [
    "d=dinu.read_csv(\"D:\\pandas.csv\")"
   ]
  },
  {
   "cell_type": "code",
   "execution_count": 19,
   "id": "cef65172",
   "metadata": {},
   "outputs": [
    {
     "name": "stdout",
     "output_type": "stream",
     "text": [
      "    Unnamed: 0    a    b    c    d    e    f\n",
      "0            0  286  189  229   21  215  198\n",
      "1            1  235   94  275  264  172   80\n",
      "2            2  187  195  173  158  100  140\n",
      "3            3  151  108   35   32  127  263\n",
      "4            4   87   25   99  270    7  219\n",
      "5            5   89  273  293   14   46  291\n",
      "6            6   68  130   29  148  150   29\n",
      "7            7   83   78   35  150  282  287\n",
      "8            8  296  105  165  178  176    8\n",
      "9            9  113  241  161  213    6   71\n",
      "10          10  201   88   27  171   85  281\n",
      "11          11  212   62  190  267  295  118\n"
     ]
    }
   ],
   "source": [
    "print(d)"
   ]
  },
  {
   "cell_type": "code",
   "execution_count": 28,
   "id": "de8ce7d8",
   "metadata": {
    "scrolled": true
   },
   "outputs": [
    {
     "data": {
      "text/html": [
       "<div>\n",
       "<style scoped>\n",
       "    .dataframe tbody tr th:only-of-type {\n",
       "        vertical-align: middle;\n",
       "    }\n",
       "\n",
       "    .dataframe tbody tr th {\n",
       "        vertical-align: top;\n",
       "    }\n",
       "\n",
       "    .dataframe thead th {\n",
       "        text-align: right;\n",
       "    }\n",
       "</style>\n",
       "<table border=\"1\" class=\"dataframe\">\n",
       "  <thead>\n",
       "    <tr style=\"text-align: right;\">\n",
       "      <th></th>\n",
       "      <th>a</th>\n",
       "      <th>b</th>\n",
       "      <th>c</th>\n",
       "      <th>d</th>\n",
       "      <th>e</th>\n",
       "      <th>f</th>\n",
       "    </tr>\n",
       "  </thead>\n",
       "  <tbody>\n",
       "    <tr>\n",
       "      <th>0</th>\n",
       "      <td>286</td>\n",
       "      <td>189</td>\n",
       "      <td>229</td>\n",
       "      <td>21</td>\n",
       "      <td>215</td>\n",
       "      <td>198</td>\n",
       "    </tr>\n",
       "    <tr>\n",
       "      <th>1</th>\n",
       "      <td>235</td>\n",
       "      <td>94</td>\n",
       "      <td>275</td>\n",
       "      <td>264</td>\n",
       "      <td>172</td>\n",
       "      <td>80</td>\n",
       "    </tr>\n",
       "    <tr>\n",
       "      <th>2</th>\n",
       "      <td>187</td>\n",
       "      <td>195</td>\n",
       "      <td>173</td>\n",
       "      <td>158</td>\n",
       "      <td>100</td>\n",
       "      <td>140</td>\n",
       "    </tr>\n",
       "    <tr>\n",
       "      <th>3</th>\n",
       "      <td>151</td>\n",
       "      <td>108</td>\n",
       "      <td>35</td>\n",
       "      <td>32</td>\n",
       "      <td>127</td>\n",
       "      <td>263</td>\n",
       "    </tr>\n",
       "    <tr>\n",
       "      <th>4</th>\n",
       "      <td>87</td>\n",
       "      <td>25</td>\n",
       "      <td>99</td>\n",
       "      <td>270</td>\n",
       "      <td>7</td>\n",
       "      <td>219</td>\n",
       "    </tr>\n",
       "    <tr>\n",
       "      <th>5</th>\n",
       "      <td>89</td>\n",
       "      <td>273</td>\n",
       "      <td>293</td>\n",
       "      <td>14</td>\n",
       "      <td>46</td>\n",
       "      <td>291</td>\n",
       "    </tr>\n",
       "    <tr>\n",
       "      <th>6</th>\n",
       "      <td>68</td>\n",
       "      <td>130</td>\n",
       "      <td>29</td>\n",
       "      <td>148</td>\n",
       "      <td>150</td>\n",
       "      <td>29</td>\n",
       "    </tr>\n",
       "    <tr>\n",
       "      <th>7</th>\n",
       "      <td>83</td>\n",
       "      <td>78</td>\n",
       "      <td>35</td>\n",
       "      <td>150</td>\n",
       "      <td>282</td>\n",
       "      <td>287</td>\n",
       "    </tr>\n",
       "    <tr>\n",
       "      <th>8</th>\n",
       "      <td>296</td>\n",
       "      <td>105</td>\n",
       "      <td>165</td>\n",
       "      <td>178</td>\n",
       "      <td>176</td>\n",
       "      <td>8</td>\n",
       "    </tr>\n",
       "    <tr>\n",
       "      <th>9</th>\n",
       "      <td>113</td>\n",
       "      <td>241</td>\n",
       "      <td>161</td>\n",
       "      <td>213</td>\n",
       "      <td>6</td>\n",
       "      <td>71</td>\n",
       "    </tr>\n",
       "    <tr>\n",
       "      <th>10</th>\n",
       "      <td>201</td>\n",
       "      <td>88</td>\n",
       "      <td>27</td>\n",
       "      <td>171</td>\n",
       "      <td>85</td>\n",
       "      <td>281</td>\n",
       "    </tr>\n",
       "    <tr>\n",
       "      <th>11</th>\n",
       "      <td>212</td>\n",
       "      <td>62</td>\n",
       "      <td>190</td>\n",
       "      <td>267</td>\n",
       "      <td>295</td>\n",
       "      <td>118</td>\n",
       "    </tr>\n",
       "  </tbody>\n",
       "</table>\n",
       "</div>"
      ],
      "text/plain": [
       "      a    b    c    d    e    f\n",
       "0   286  189  229   21  215  198\n",
       "1   235   94  275  264  172   80\n",
       "2   187  195  173  158  100  140\n",
       "3   151  108   35   32  127  263\n",
       "4    87   25   99  270    7  219\n",
       "5    89  273  293   14   46  291\n",
       "6    68  130   29  148  150   29\n",
       "7    83   78   35  150  282  287\n",
       "8   296  105  165  178  176    8\n",
       "9   113  241  161  213    6   71\n",
       "10  201   88   27  171   85  281\n",
       "11  212   62  190  267  295  118"
      ]
     },
     "execution_count": 28,
     "metadata": {},
     "output_type": "execute_result"
    }
   ],
   "source": [
    "d.drop(\"Unnamed: 0\",axis=1)"
   ]
  },
  {
   "cell_type": "code",
   "execution_count": 29,
   "id": "20a09228",
   "metadata": {},
   "outputs": [
    {
     "data": {
      "text/plain": [
       "(12, 7)"
      ]
     },
     "execution_count": 29,
     "metadata": {},
     "output_type": "execute_result"
    }
   ],
   "source": [
    "d.shape"
   ]
  },
  {
   "cell_type": "code",
   "execution_count": 30,
   "id": "dc6eda3e",
   "metadata": {},
   "outputs": [
    {
     "name": "stdout",
     "output_type": "stream",
     "text": [
      "<class 'pandas.core.frame.DataFrame'>\n",
      "RangeIndex: 12 entries, 0 to 11\n",
      "Data columns (total 7 columns):\n",
      " #   Column      Non-Null Count  Dtype\n",
      "---  ------      --------------  -----\n",
      " 0   Unnamed: 0  12 non-null     int64\n",
      " 1   a           12 non-null     int64\n",
      " 2   b           12 non-null     int64\n",
      " 3   c           12 non-null     int64\n",
      " 4   d           12 non-null     int64\n",
      " 5   e           12 non-null     int64\n",
      " 6   f           12 non-null     int64\n",
      "dtypes: int64(7)\n",
      "memory usage: 800.0 bytes\n"
     ]
    }
   ],
   "source": [
    "d.info()"
   ]
  },
  {
   "cell_type": "code",
   "execution_count": null,
   "id": "0a5a31fe",
   "metadata": {},
   "outputs": [],
   "source": []
  }
 ],
 "metadata": {
  "kernelspec": {
   "display_name": "Python 3 (ipykernel)",
   "language": "python",
   "name": "python3"
  },
  "language_info": {
   "codemirror_mode": {
    "name": "ipython",
    "version": 3
   },
   "file_extension": ".py",
   "mimetype": "text/x-python",
   "name": "python",
   "nbconvert_exporter": "python",
   "pygments_lexer": "ipython3",
   "version": "3.10.8"
  }
 },
 "nbformat": 4,
 "nbformat_minor": 5
}
