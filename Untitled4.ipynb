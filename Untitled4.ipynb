{
 "cells": [
  {
   "cell_type": "code",
   "execution_count": 1,
   "id": "0ec0f721",
   "metadata": {},
   "outputs": [],
   "source": [
    "import numpy as dinu"
   ]
  },
  {
   "cell_type": "code",
   "execution_count": 2,
   "id": "8ceb40b4",
   "metadata": {},
   "outputs": [],
   "source": [
    "a = dinu.array([5,6,7])\n"
   ]
  },
  {
   "cell_type": "code",
   "execution_count": 3,
   "id": "60da08ed",
   "metadata": {},
   "outputs": [
    {
     "name": "stdout",
     "output_type": "stream",
     "text": [
      "[5 6 7]\n"
     ]
    }
   ],
   "source": [
    "print(a)"
   ]
  },
  {
   "cell_type": "code",
   "execution_count": 4,
   "id": "2502cab8",
   "metadata": {},
   "outputs": [],
   "source": [
    "c=dinu.array([(5,6,7),(8,9,10)])"
   ]
  },
  {
   "cell_type": "code",
   "execution_count": 5,
   "id": "d3068834",
   "metadata": {},
   "outputs": [
    {
     "name": "stdout",
     "output_type": "stream",
     "text": [
      "[[ 5  6  7]\n",
      " [ 8  9 10]]\n"
     ]
    }
   ],
   "source": [
    "print(c)"
   ]
  },
  {
   "cell_type": "code",
   "execution_count": 6,
   "id": "bc087381",
   "metadata": {},
   "outputs": [],
   "source": [
    "dhash=dinu.transpose(c)"
   ]
  },
  {
   "cell_type": "code",
   "execution_count": 7,
   "id": "e95b3e40",
   "metadata": {},
   "outputs": [
    {
     "name": "stdout",
     "output_type": "stream",
     "text": [
      "[[ 5  8]\n",
      " [ 6  9]\n",
      " [ 7 10]]\n"
     ]
    }
   ],
   "source": [
    "print(dhash)"
   ]
  },
  {
   "cell_type": "code",
   "execution_count": 8,
   "id": "ac1af7c4",
   "metadata": {},
   "outputs": [
    {
     "data": {
      "text/plain": [
       "array([ 5,  8,  6,  9,  7, 10])"
      ]
     },
     "execution_count": 8,
     "metadata": {},
     "output_type": "execute_result"
    }
   ],
   "source": [
    "dhash.ravel()"
   ]
  },
  {
   "cell_type": "code",
   "execution_count": 9,
   "id": "815b73b6",
   "metadata": {},
   "outputs": [
    {
     "data": {
      "text/plain": [
       "array([[ 5],\n",
       "       [ 6],\n",
       "       [ 7],\n",
       "       [ 8],\n",
       "       [ 9],\n",
       "       [10]])"
      ]
     },
     "execution_count": 9,
     "metadata": {},
     "output_type": "execute_result"
    }
   ],
   "source": [
    "c.reshape(6,1)"
   ]
  },
  {
   "cell_type": "code",
   "execution_count": 10,
   "id": "7ad0bd9e",
   "metadata": {},
   "outputs": [],
   "source": [
    "ze=dinu.zeros((1,6))"
   ]
  },
  {
   "cell_type": "code",
   "execution_count": 11,
   "id": "33541af3",
   "metadata": {},
   "outputs": [
    {
     "name": "stdout",
     "output_type": "stream",
     "text": [
      "[[0. 0. 0. 0. 0. 0.]]\n"
     ]
    }
   ],
   "source": [
    "print(ze)"
   ]
  },
  {
   "cell_type": "code",
   "execution_count": 16,
   "id": "1b14c33a",
   "metadata": {},
   "outputs": [],
   "source": [
    "one=dinu.ones((6,1))"
   ]
  },
  {
   "cell_type": "code",
   "execution_count": 17,
   "id": "84136685",
   "metadata": {},
   "outputs": [
    {
     "name": "stdout",
     "output_type": "stream",
     "text": [
      "[[1.]\n",
      " [1.]\n",
      " [1.]\n",
      " [1.]\n",
      " [1.]\n",
      " [1.]]\n"
     ]
    }
   ],
   "source": [
    "print(one)"
   ]
  },
  {
   "cell_type": "code",
   "execution_count": 19,
   "id": "b1e80b14",
   "metadata": {},
   "outputs": [
    {
     "data": {
      "text/plain": [
       "array([[0.89406515, 0.79466539, 0.46819306, 0.40204809, 0.20328072,\n",
       "        0.3709278 ]])"
      ]
     },
     "execution_count": 19,
     "metadata": {},
     "output_type": "execute_result"
    }
   ],
   "source": [
    "dinu.random.random((1,6))"
   ]
  },
  {
   "cell_type": "code",
   "execution_count": null,
   "id": "a9c56bcf",
   "metadata": {},
   "outputs": [],
   "source": []
  }
 ],
 "metadata": {
  "kernelspec": {
   "display_name": "Python 3 (ipykernel)",
   "language": "python",
   "name": "python3"
  },
  "language_info": {
   "codemirror_mode": {
    "name": "ipython",
    "version": 3
   },
   "file_extension": ".py",
   "mimetype": "text/x-python",
   "name": "python",
   "nbconvert_exporter": "python",
   "pygments_lexer": "ipython3",
   "version": "3.10.8"
  }
 },
 "nbformat": 4,
 "nbformat_minor": 5
}
