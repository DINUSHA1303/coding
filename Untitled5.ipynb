{
 "cells": [
  {
   "cell_type": "code",
   "execution_count": 1,
   "id": "dc540f03",
   "metadata": {},
   "outputs": [],
   "source": [
    "import numpy as np"
   ]
  },
  {
   "cell_type": "code",
   "execution_count": 2,
   "id": "66cbe38f",
   "metadata": {},
   "outputs": [],
   "source": [
    "import pandas as pd"
   ]
  },
  {
   "cell_type": "code",
   "execution_count": 3,
   "id": "10dc5953",
   "metadata": {},
   "outputs": [],
   "source": [
    "import matplotlib.pyplot as plt"
   ]
  },
  {
   "cell_type": "code",
   "execution_count": 4,
   "id": "ee7c31ca",
   "metadata": {},
   "outputs": [],
   "source": [
    "%matplotlib inline"
   ]
  },
  {
   "cell_type": "code",
   "execution_count": 10,
   "id": "5a8f589a",
   "metadata": {},
   "outputs": [],
   "source": [
    "mtcars=pd.read_csv(\"C:/Users/ADMIN/Downloads/mtcars.csv\")"
   ]
  },
  {
   "cell_type": "code",
   "execution_count": 15,
   "id": "cd08ce8a",
   "metadata": {},
   "outputs": [],
   "source": [
    "mtcars= mtcars.rename(columns={'Unnamed: 0': 'model'})"
   ]
  },
  {
   "cell_type": "code",
   "execution_count": 18,
   "id": "7a0755a6",
   "metadata": {},
   "outputs": [],
   "source": [
    "mtcars.index= mtcars.model"
   ]
  },
  {
   "cell_type": "code",
   "execution_count": null,
   "id": "bee16912",
   "metadata": {},
   "outputs": [],
   "source": []
  }
 ],
 "metadata": {
  "kernelspec": {
   "display_name": "Python 3 (ipykernel)",
   "language": "python",
   "name": "python3"
  },
  "language_info": {
   "codemirror_mode": {
    "name": "ipython",
    "version": 3
   },
   "file_extension": ".py",
   "mimetype": "text/x-python",
   "name": "python",
   "nbconvert_exporter": "python",
   "pygments_lexer": "ipython3",
   "version": "3.10.8"
  }
 },
 "nbformat": 4,
 "nbformat_minor": 5
}
