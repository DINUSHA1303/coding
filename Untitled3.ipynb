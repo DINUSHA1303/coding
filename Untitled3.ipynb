{
 "cells": [
  {
   "cell_type": "code",
   "execution_count": 1,
   "id": "2a442b71",
   "metadata": {},
   "outputs": [
    {
     "name": "stdout",
     "output_type": "stream",
     "text": [
      "enter total seat capacity:50\n",
      "your journey is not confirmed\n",
      "only 1 tickets booked\n",
      "your journey is not confirmed\n",
      "only 2 tickets booked\n",
      "your journey is not confirmed\n",
      "only 3 tickets booked\n",
      "your journey is not confirmed\n",
      "only 4 tickets booked\n",
      "your journey is not confirmed\n",
      "only 5 tickets booked\n",
      "your journey is not confirmed\n",
      "only 6 tickets booked\n",
      "your journey is not confirmed\n",
      "only 7 tickets booked\n",
      "your journey is not confirmed\n",
      "only 8 tickets booked\n",
      "your journey is not confirmed\n",
      "only 9 tickets booked\n",
      "your journey is not confirmed\n",
      "only 10 tickets booked\n",
      "your journey is not confirmed\n",
      "only 11 tickets booked\n",
      "your journey is not confirmed\n",
      "only 12 tickets booked\n",
      "your journey is not confirmed\n",
      "only 13 tickets booked\n",
      "your journey is not confirmed\n",
      "only 14 tickets booked\n",
      "your journey is not confirmed\n",
      "only 15 tickets booked\n",
      "your journey is not confirmed\n",
      "only 16 tickets booked\n",
      "your journey is not confirmed\n",
      "only 17 tickets booked\n",
      "your journey is not confirmed\n",
      "only 18 tickets booked\n",
      "your journey is not confirmed\n",
      "only 19 tickets booked\n",
      "your journey is not confirmed\n",
      "only 20 tickets booked\n",
      "your journey is not confirmed\n",
      "only 21 tickets booked\n",
      "your journey is not confirmed\n",
      "only 22 tickets booked\n",
      "your journey is not confirmed\n",
      "only 23 tickets booked\n",
      "your journey is not confirmed\n",
      "only 24 tickets booked\n",
      "your journey is not confirmed\n",
      "only 25 tickets booked\n",
      "your journey is not confirmed\n",
      "only 26 tickets booked\n",
      "your journey is not confirmed\n",
      "only 27 tickets booked\n",
      "your journey is not confirmed\n",
      "only 28 tickets booked\n",
      "your journey is not confirmed\n",
      "only 29 tickets booked\n",
      "your journey is not confirmed\n",
      "only 30 tickets booked\n",
      "your journey is not confirmed\n",
      "only 31 tickets booked\n",
      "your journey is not confirmed\n",
      "only 32 tickets booked\n",
      "your journey is not confirmed\n",
      "only 33 tickets booked\n",
      "your journey is not confirmed\n",
      "only 34 tickets booked\n",
      "your journey is not confirmed\n",
      "only 35 tickets booked\n",
      "your journey is not confirmed\n",
      "only 36 tickets booked\n",
      "your journey is not confirmed\n",
      "only 37 tickets booked\n",
      "75% of the ticket filled.the journey confirmed\n"
     ]
    }
   ],
   "source": [
    "TCS=int(input(\"enter total seat capacity:\"))\n",
    "counter=1\n",
    "while counter<=TCS*3/4:\n",
    "    print(f\"your journey is not confirmed\")\n",
    "    print(f\"only {counter} tickets booked\")\n",
    "    counter+=1\n",
    "print(\"75% of the ticket filled.the journey confirmed\")\n"
   ]
  },
  {
   "cell_type": "code",
   "execution_count": 2,
   "id": "70354cf0",
   "metadata": {},
   "outputs": [
    {
     "name": "stdout",
     "output_type": "stream",
     "text": [
      "enter limit5\n",
      "0\n",
      "1\n",
      "1\n",
      "1\n",
      "1\n",
      "2\n",
      "1\n",
      "2\n",
      "3\n",
      "2\n",
      "3\n",
      "5\n",
      "3\n",
      "5\n",
      "8\n",
      "5\n",
      "8\n",
      "13\n"
     ]
    }
   ],
   "source": [
    "limit=int(input(\"enter limit\"))\n",
    "count=0\n",
    "a=0\n",
    "b=1\n",
    "\n",
    "while count<=limit:\n",
    "    print(a)\n",
    "    print(b)\n",
    "    c=a+b\n",
    "    print(c)\n",
    "    count+=1\n",
    "    a=b\n",
    "    b=c"
   ]
  },
  {
   "cell_type": "code",
   "execution_count": 4,
   "id": "d0000332",
   "metadata": {},
   "outputs": [
    {
     "ename": "SyntaxError",
     "evalue": "incomplete input (3121798474.py, line 1)",
     "output_type": "error",
     "traceback": [
      "\u001b[1;36m  Cell \u001b[1;32mIn [4], line 1\u001b[1;36m\u001b[0m\n\u001b[1;33m    def fibnac (limit):\u001b[0m\n\u001b[1;37m                       ^\u001b[0m\n\u001b[1;31mSyntaxError\u001b[0m\u001b[1;31m:\u001b[0m incomplete input\n"
     ]
    }
   ],
   "source": [
    "def fibnac (limit):\n",
    "    count=0\n",
    "    a=0\n",
    "    b=1\n",
    "    "
   ]
  },
  {
   "cell_type": "code",
   "execution_count": null,
   "id": "5881aa50",
   "metadata": {},
   "outputs": [],
   "source": []
  }
 ],
 "metadata": {
  "kernelspec": {
   "display_name": "Python 3 (ipykernel)",
   "language": "python",
   "name": "python3"
  },
  "language_info": {
   "codemirror_mode": {
    "name": "ipython",
    "version": 3
   },
   "file_extension": ".py",
   "mimetype": "text/x-python",
   "name": "python",
   "nbconvert_exporter": "python",
   "pygments_lexer": "ipython3",
   "version": "3.10.8"
  }
 },
 "nbformat": 4,
 "nbformat_minor": 5
}
