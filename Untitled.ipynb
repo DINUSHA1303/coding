{
 "cells": [
  {
   "cell_type": "code",
   "execution_count": 4,
   "id": "6381d1e0",
   "metadata": {},
   "outputs": [],
   "source": [
    "var1=range(1,11,2)"
   ]
  },
  {
   "cell_type": "code",
   "execution_count": 5,
   "id": "36b95b26",
   "metadata": {},
   "outputs": [
    {
     "name": "stdout",
     "output_type": "stream",
     "text": [
      "range(1, 11, 2)\n"
     ]
    }
   ],
   "source": [
    "print(var1)"
   ]
  },
  {
   "cell_type": "code",
   "execution_count": 6,
   "id": "a882e940",
   "metadata": {},
   "outputs": [
    {
     "name": "stdout",
     "output_type": "stream",
     "text": [
      "[1, 3, 5, 7, 9]\n"
     ]
    }
   ],
   "source": [
    "print(list(var1))"
   ]
  },
  {
   "cell_type": "code",
   "execution_count": 8,
   "id": "f8ce06d9",
   "metadata": {},
   "outputs": [],
   "source": [
    "var2={\"name\":\"data analytics\",\"dept\":\"MCA\",\"studentcount\":47}"
   ]
  },
  {
   "cell_type": "code",
   "execution_count": 10,
   "id": "69e804aa",
   "metadata": {},
   "outputs": [],
   "source": [
    "var3={\"name\":\"dinu\",\"food\":\"grill\",\"bill\":140}"
   ]
  },
  {
   "cell_type": "code",
   "execution_count": 11,
   "id": "3c7cf743",
   "metadata": {},
   "outputs": [
    {
     "data": {
      "text/plain": [
       "dict"
      ]
     },
     "execution_count": 11,
     "metadata": {},
     "output_type": "execute_result"
    }
   ],
   "source": [
    "type(var3)"
   ]
  },
  {
   "cell_type": "code",
   "execution_count": 13,
   "id": "4a077c1d",
   "metadata": {},
   "outputs": [
    {
     "data": {
      "text/plain": [
       "'grill'"
      ]
     },
     "execution_count": 13,
     "metadata": {},
     "output_type": "execute_result"
    }
   ],
   "source": [
    "var3[\"food\"]"
   ]
  },
  {
   "cell_type": "code",
   "execution_count": 15,
   "id": "e985d932",
   "metadata": {},
   "outputs": [],
   "source": [
    "var4={\"a\",\"b\",\"c\",10,20,30}"
   ]
  },
  {
   "cell_type": "code",
   "execution_count": 16,
   "id": "5f634dda",
   "metadata": {},
   "outputs": [
    {
     "data": {
      "text/plain": [
       "set"
      ]
     },
     "execution_count": 16,
     "metadata": {},
     "output_type": "execute_result"
    }
   ],
   "source": [
    "type(var4)"
   ]
  },
  {
   "cell_type": "code",
   "execution_count": 18,
   "id": "15e3f4fc",
   "metadata": {},
   "outputs": [
    {
     "data": {
      "text/plain": [
       "{10, 20, 30, 'a', 'b', 'c'}"
      ]
     },
     "execution_count": 18,
     "metadata": {},
     "output_type": "execute_result"
    }
   ],
   "source": [
    "var4"
   ]
  },
  {
   "cell_type": "code",
   "execution_count": 19,
   "id": "215c1c59",
   "metadata": {},
   "outputs": [],
   "source": [
    "var5={10,20,30,\"a\",\"b\",\"c\"}"
   ]
  },
  {
   "cell_type": "code",
   "execution_count": 20,
   "id": "fe651cd8",
   "metadata": {},
   "outputs": [
    {
     "data": {
      "text/plain": [
       "set"
      ]
     },
     "execution_count": 20,
     "metadata": {},
     "output_type": "execute_result"
    }
   ],
   "source": [
    "type(var5)"
   ]
  },
  {
   "cell_type": "code",
   "execution_count": 21,
   "id": "8a72019a",
   "metadata": {},
   "outputs": [
    {
     "data": {
      "text/plain": [
       "{10, 20, 30, 'a', 'b', 'c'}"
      ]
     },
     "execution_count": 21,
     "metadata": {},
     "output_type": "execute_result"
    }
   ],
   "source": [
    "var5"
   ]
  },
  {
   "cell_type": "code",
   "execution_count": null,
   "id": "d32b33ff",
   "metadata": {},
   "outputs": [],
   "source": []
  }
 ],
 "metadata": {
  "kernelspec": {
   "display_name": "Python 3 (ipykernel)",
   "language": "python",
   "name": "python3"
  },
  "language_info": {
   "codemirror_mode": {
    "name": "ipython",
    "version": 3
   },
   "file_extension": ".py",
   "mimetype": "text/x-python",
   "name": "python",
   "nbconvert_exporter": "python",
   "pygments_lexer": "ipython3",
   "version": "3.10.8"
  }
 },
 "nbformat": 4,
 "nbformat_minor": 5
}
